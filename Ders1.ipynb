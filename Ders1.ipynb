{
  "nbformat": 4,
  "nbformat_minor": 0,
  "metadata": {
    "colab": {
      "provenance": []
    },
    "kernelspec": {
      "name": "python3",
      "display_name": "Python 3"
    },
    "language_info": {
      "name": "python"
    }
  },
  "cells": [
    {
      "cell_type": "code",
      "execution_count": null,
      "metadata": {
        "id": "nk5S2A3520_8"
      },
      "outputs": [],
      "source": []
    },
    {
      "cell_type": "markdown",
      "source": [
        "Veri yapıları ve Algoritmalar dersi ilk kodlama çıktısıdır. İGÜ İSTKA Siber Akademi Merkezi 19.08.2024"
      ],
      "metadata": {
        "id": "FSMXto-o6-ev"
      }
    },
    {
      "cell_type": "code",
      "source": [
        "print(\"Merhaba\") # print ekrana çıktı veren koddur."
      ],
      "metadata": {
        "colab": {
          "base_uri": "https://localhost:8080/"
        },
        "id": "SinY5Auh4Jhi",
        "outputId": "4958ba3c-10a8-4919-c7f0-eba44a84ec57"
      },
      "execution_count": 3,
      "outputs": [
        {
          "output_type": "stream",
          "name": "stdout",
          "text": [
            "Merhaba\n"
          ]
        }
      ]
    },
    {
      "cell_type": "code",
      "source": [
        "import sys # Python programlama dilinde yazılıma kütüphane eklemeye yarayan kod bloğudur.\n",
        "print(sys.version) # kodun çıktısı versiyon sürümünü verir."
      ],
      "metadata": {
        "colab": {
          "base_uri": "https://localhost:8080/"
        },
        "id": "DiR2s1pi54s5",
        "outputId": "80a42509-5f12-4b87-a37e-6139f02103ec"
      },
      "execution_count": 5,
      "outputs": [
        {
          "output_type": "stream",
          "name": "stdout",
          "text": [
            "3.10.12 (main, Jul 29 2024, 16:56:48) [GCC 11.4.0]\n"
          ]
        }
      ]
    },
    {
      "cell_type": "code",
      "source": [
        "from google.colab import drive  # google colab - drive bağlantısını sağlar.\n",
        "drive.mount('/content/drive')"
      ],
      "metadata": {
        "colab": {
          "base_uri": "https://localhost:8080/"
        },
        "id": "bEYNm_kz7sqK",
        "outputId": "12f28ef3-a6a2-4647-cba0-6a8853b222c2"
      },
      "execution_count": 6,
      "outputs": [
        {
          "output_type": "stream",
          "name": "stdout",
          "text": [
            "Mounted at /content/drive\n"
          ]
        }
      ]
    },
    {
      "cell_type": "code",
      "source": [
        "import os\n",
        "os.chdir(\"/content/drive/My Drive/Veriyapilari-istka\")\n",
        "!pwd # bize kodun çıktısını dosya yolu olarak veren kod bloğudur."
      ],
      "metadata": {
        "colab": {
          "base_uri": "https://localhost:8080/"
        },
        "id": "HsXPANSs6DNZ",
        "outputId": "2525feaf-84f1-4a33-a68a-60b1c42ff870"
      },
      "execution_count": 9,
      "outputs": [
        {
          "output_type": "stream",
          "name": "stdout",
          "text": [
            "/content/drive/My Drive/Veriyapilari-istka\n"
          ]
        }
      ]
    },
    {
      "cell_type": "code",
      "source": [],
      "metadata": {
        "id": "_jHYzgyL9npS"
      },
      "execution_count": null,
      "outputs": []
    }
  ]
}
