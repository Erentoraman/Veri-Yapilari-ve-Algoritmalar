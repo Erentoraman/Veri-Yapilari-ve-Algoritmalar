{
  "nbformat": 4,
  "nbformat_minor": 0,
  "metadata": {
    "colab": {
      "provenance": []
    },
    "kernelspec": {
      "name": "python3",
      "display_name": "Python 3"
    },
    "language_info": {
      "name": "python"
    }
  },
  "cells": [
    {
      "cell_type": "markdown",
      "source": [
        "Veri Yapıları ve Algoritmalar İGÜ İSTKA SİBER AKADEMİ MERKEZİ - 27.08.2024\n"
      ],
      "metadata": {
        "id": "weNP_6oI-HQS"
      }
    },
    {
      "cell_type": "code",
      "source": [
        "print(\"Merhaba, Ders 7\") # print ekrana çıktı veren bir koddur."
      ],
      "metadata": {
        "colab": {
          "base_uri": "https://localhost:8080/"
        },
        "id": "gRzmNhXM-Uy8",
        "outputId": "7d867350-4fa0-486a-d29e-830a1ff04acf"
      },
      "execution_count": null,
      "outputs": [
        {
          "output_type": "stream",
          "name": "stdout",
          "text": [
            "Merhaba, Ders 7\n"
          ]
        }
      ]
    },
    {
      "cell_type": "code",
      "source": [
        "import sys # import python programlama dilinde yazılıma kütüphane eklemeye yarayan bir kod blogudur.\n",
        "print(sys.version)"
      ],
      "metadata": {
        "colab": {
          "base_uri": "https://localhost:8080/"
        },
        "id": "l3zuHPb3-iSR",
        "outputId": "9a8d759a-5d38-4d5a-f36b-6b3db62b7e67"
      },
      "execution_count": null,
      "outputs": [
        {
          "output_type": "stream",
          "name": "stdout",
          "text": [
            "3.10.12 (main, Jul 29 2024, 16:56:48) [GCC 11.4.0]\n"
          ]
        }
      ]
    },
    {
      "cell_type": "code",
      "source": [
        "from google.colab import drive # google colab - drive bağlantısı\n",
        "\n",
        "drive.mount('/content/drive')"
      ],
      "metadata": {
        "colab": {
          "base_uri": "https://localhost:8080/"
        },
        "id": "gURNhRRX-rEB",
        "outputId": "d23fb62b-b746-480b-fce0-80dfe041a87d"
      },
      "execution_count": null,
      "outputs": [
        {
          "output_type": "stream",
          "name": "stdout",
          "text": [
            "Mounted at /content/drive\n"
          ]
        }
      ]
    },
    {
      "cell_type": "code",
      "source": [
        "import os\n",
        "os.chdir(\"/content/drive/My Drive/Veriyapilari-istka\")\n",
        "!pwd # bize kodun çıktısını dosya yolu olarak veren kod bloğudur."
      ],
      "metadata": {
        "colab": {
          "base_uri": "https://localhost:8080/"
        },
        "id": "WTYyjozj_Oq0",
        "outputId": "cb221096-be66-4e27-d82d-3e07c3b0b4fe"
      },
      "execution_count": 33,
      "outputs": [
        {
          "output_type": "stream",
          "name": "stdout",
          "text": [
            "/content/drive/My Drive/Veriyapilari-istka\n"
          ]
        }
      ]
    },
    {
      "cell_type": "markdown",
      "source": [
        "PYTHON PROGRAMLAMA DİLİNDE DOSYA İŞLEMLERİ\n",
        "\n",
        "Python programlama dilinde dosya işlemleri; dosyaların okunması, yazılması, güncellenmesi ve kapatılması gibi işlemleri kapsamaktadır. Dosya işlemleri, genellikle dosyaların içeriğini almak, bilgi üzerinde işlem yapabilmek veya yeni dosyalar oluşturmak için kullanılır.\n",
        "\n",
        "PYTHON programlama dili üzerindeki dosya işlemleri bağlamında Yapay Zeka (YZ) çalışmaları noktasında veri setlerini ele aldık. Veri yapıları ve Algoritmalar'ın sonucu olarak yapay zeka çalışmaları ele alacağız. Doğru veri yapısı için bu bağlamda yapay zeka uygulamaları için veri setlerinin önemi:\n",
        "\n",
        "1-Modelin Doğruluğu\n",
        "\n",
        "2-Geniş Kapsamlı bir genelleme\n",
        "\n",
        "3-Performans\n",
        "\n",
        "4-Modilin başarısı için verilerin doğruluğu çok önemlidir.\n"
      ],
      "metadata": {
        "id": "_ONypvMsANJw"
      }
    },
    {
      "cell_type": "code",
      "source": [
        "import pandas as pd # \"pandas,\" veri analizi ve veri manipülasyonu için kullanılan bir kütüphanedir.\n",
        "# Pandas, veri okuma ve yazma (örneğin CSV, Excel, SQL veritabanları), veri temizleme,\n",
        "# filtreleme, dönüştürme ve özetleme işlemlerini kolaylaştıran birçok fonksiyon sunar.\n",
        "\n",
        "VeriSetiYolu = '/content/drive/My Drive/Veriyapilari-istka/Veriseti'\n",
        "\n",
        "for file in os.listdir(VeriSetiYolu):                         # Klasördeki tüm dosyaları listele\n",
        "\n",
        "    if file.endswith(('.xlsx', '.xls')):                     # Sadece Excel dosyalarını seç\n",
        "\n",
        "        df = pd.read_excel(os.path.join(VeriSetiYolu, file))  # Excel dosyasını pandas ile oku\n",
        "\n",
        "        df.to_csv(os.path.join(VeriSetiYolu, file.rsplit('.', 1)[0] + '.csv'), index=False)\n",
        "                                                               # DataFrame'i CSV formatında kaydet\n",
        "        print(f\"{file} dosyası CSV formatına çevrildi.\")     # Çevrim İşlemi Çıktısı\n",
        "\n",
        "# İşlem tamamlandığında kaç tane excel dosyası var ise o kadar *.csv formatına çevildiğinin\n",
        "# bilgisini almaktayız"
      ],
      "metadata": {
        "id": "h61HO1Y1EUbX",
        "colab": {
          "base_uri": "https://localhost:8080/"
        },
        "outputId": "7ab2cf50-c5fd-437d-971d-d0742166fd73"
      },
      "execution_count": 41,
      "outputs": [
        {
          "output_type": "stream",
          "name": "stdout",
          "text": [
            "atktan-geri-kazanm-miktarlar (1).xlsx dosyası CSV formatına çevrildi.\n"
          ]
        }
      ]
    },
    {
      "cell_type": "code",
      "source": [
        "import os\n",
        "import pandas as pd\n",
        "\n",
        "VeriSetiYolu = '/content/drive/My Drive/Veriyapilari-istka/Veriseti'\n",
        "\n",
        "# VeriSetiYolu içindeki .csv dosyalarını bul ve say\n",
        "csv_dosyalari = [dosya for dosya in os.listdir(VeriSetiYolu) if dosya.endswith('.csv')]\n",
        "\n",
        "# .csv dosya sayısını ekrana yazdır\n",
        "csv_dosya_sayisi = len(csv_dosyalari)\n",
        "print(f\"VeriSetiYolu içerisinde {csv_dosyalari} tane .csv dosyası bulunuyor.\")\n",
        "\n",
        "# Mevcut *.csv uzantılı dosyaların isimlerini getiriyoruz.\n",
        "print(\"Bulunan CSV Dosyaları:\")\n",
        "for dosya in csv_dosyalari:\n",
        "    print(dosya)"
      ],
      "metadata": {
        "colab": {
          "base_uri": "https://localhost:8080/"
        },
        "id": "Fx6HONoqF51W",
        "outputId": "1fac8913-802d-48b5-92b9-ae470d570166"
      },
      "execution_count": 39,
      "outputs": [
        {
          "output_type": "stream",
          "name": "stdout",
          "text": [
            "VeriSetiYolu içerisinde ['atktan-geri-kazanm-miktarlar (1).csv'] tane .csv dosyası bulunuyor.\n",
            "Bulunan CSV Dosyaları:\n",
            "atktan-geri-kazanm-miktarlar (1).csv\n"
          ]
        }
      ]
    }
  ]
}