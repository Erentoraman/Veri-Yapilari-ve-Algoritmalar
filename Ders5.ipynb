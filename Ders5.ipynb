{
  "nbformat": 4,
  "nbformat_minor": 0,
  "metadata": {
    "colab": {
      "provenance": []
    },
    "kernelspec": {
      "name": "python3",
      "display_name": "Python 3"
    },
    "language_info": {
      "name": "python"
    }
  },
  "cells": [
    {
      "cell_type": "markdown",
      "source": [
        "Veri Yapıları ve Algoritmalar İGÜ İSTKA SİBER AKADEMİ MERKEZİ - 23.08.2024"
      ],
      "metadata": {
        "id": "5bdCTG-7BbEb"
      }
    },
    {
      "cell_type": "code",
      "execution_count": 1,
      "metadata": {
        "colab": {
          "base_uri": "https://localhost:8080/"
        },
        "id": "S0OMWBScA-5G",
        "outputId": "542fc565-3766-4b8d-9155-db36b6e88207"
      },
      "outputs": [
        {
          "output_type": "stream",
          "name": "stdout",
          "text": [
            "Merhaba, Ders 5\n"
          ]
        }
      ],
      "source": [
        "print(\"Merhaba, Ders 5\") # print ekrana çıktı veren bir koddur.\n"
      ]
    },
    {
      "cell_type": "code",
      "source": [
        "import sys # import python programlama dilinde yazılıma kütüphane eklemeye yarayan bir kod blogudur.\n",
        "print(sys.version)"
      ],
      "metadata": {
        "colab": {
          "base_uri": "https://localhost:8080/"
        },
        "id": "vjeecV9aBYT9",
        "outputId": "f8b341e3-966a-43f2-beb9-921a180f7fee"
      },
      "execution_count": 2,
      "outputs": [
        {
          "output_type": "stream",
          "name": "stdout",
          "text": [
            "3.10.12 (main, Jul 29 2024, 16:56:48) [GCC 11.4.0]\n"
          ]
        }
      ]
    },
    {
      "cell_type": "code",
      "source": [
        "from google.colab import drive # google colab - drive bağlantısı\n",
        "\n",
        "drive.mount('/content/drive')"
      ],
      "metadata": {
        "colab": {
          "base_uri": "https://localhost:8080/"
        },
        "id": "9Xf2_dWFBo3M",
        "outputId": "fa8d3a11-8a54-4041-935d-4c0b6028a555"
      },
      "execution_count": 3,
      "outputs": [
        {
          "output_type": "stream",
          "name": "stdout",
          "text": [
            "Mounted at /content/drive\n"
          ]
        }
      ]
    },
    {
      "cell_type": "code",
      "source": [
        "import os\n",
        "os.chdir(\"/content/drive/My Drive/Veriyapilari-istka\")\n",
        "!pwd # bize kodun çıktısını dosya yolu olarak veren kod bloğudur."
      ],
      "metadata": {
        "colab": {
          "base_uri": "https://localhost:8080/"
        },
        "id": "MutH6B2IB0JF",
        "outputId": "72fd826b-15bb-431a-dcc6-a09983a96bc5"
      },
      "execution_count": 5,
      "outputs": [
        {
          "output_type": "stream",
          "name": "stdout",
          "text": [
            "/content/drive/My Drive/Veriyapilari-istka\n"
          ]
        }
      ]
    },
    {
      "cell_type": "code",
      "source": [
        "# 1 ile 100 arasındaki sayılardan 7'ye bölünen ve bölünmeyenleri bulan Python kodu\n",
        "Sayi_dizisi = [] # 7 ye bölünenlerin listesi\n",
        "Sayi_dizisi2 = [] # 7 ye bölünmeyenlerin listesi\n",
        "sayi = 1\n",
        "\n",
        "while sayi <= 100:\n",
        "    if sayi % 7 == 0:\n",
        "        Sayi_dizisi.append(sayi) # append bir listeye yeni bir öğe eklemek için kullanılır.\n",
        "    elif sayi % 7 != 0:\n",
        "          Sayi_dizisi2.append(sayi)\n",
        "    sayi += 1\n",
        "\n",
        "# Sonucu ekrana yazdır\n",
        "print(\"1 ile 100 arasındaki 7'ye bölünen sayılar:\", Sayi_dizisi)\n",
        "print(\"Toplam sayı adeti: \", len(Sayi_dizisi)) # Toplam sayı adetini bulmak için len fonksiyonu kullanılır.\n",
        "\n",
        "print(\"1 ile 100 arasındaki 7'ye bölünemeyen sayılar:\", Sayi_dizisi2)\n",
        "print(\"Toplam sayı adeti: \", len(Sayi_dizisi2))"
      ],
      "metadata": {
        "colab": {
          "base_uri": "https://localhost:8080/"
        },
        "id": "-mUsa3ezB-zl",
        "outputId": "1731a17e-ba53-4e4b-a9fb-ad1f98c06717"
      },
      "execution_count": 12,
      "outputs": [
        {
          "output_type": "stream",
          "name": "stdout",
          "text": [
            "1 ile 100 arasındaki 7'ye bölünen sayılar: [7, 14, 21, 28, 35, 42, 49, 56, 63, 70, 77, 84, 91, 98]\n",
            "Toplam sayı adeti:  14\n",
            "1 ile 100 arasındaki 7'ye bölünemeyen sayılar: [1, 2, 3, 4, 5, 6, 8, 9, 10, 11, 12, 13, 15, 16, 17, 18, 19, 20, 22, 23, 24, 25, 26, 27, 29, 30, 31, 32, 33, 34, 36, 37, 38, 39, 40, 41, 43, 44, 45, 46, 47, 48, 50, 51, 52, 53, 54, 55, 57, 58, 59, 60, 61, 62, 64, 65, 66, 67, 68, 69, 71, 72, 73, 74, 75, 76, 78, 79, 80, 81, 82, 83, 85, 86, 87, 88, 89, 90, 92, 93, 94, 95, 96, 97, 99, 100]\n",
            "Toplam sayı adeti:  86\n"
          ]
        }
      ]
    },
    {
      "cell_type": "code",
      "source": [
        "# Girilen iki kodun hangisinin büyük olduğunu bulan ve sayı dışında girilen karakterin hatalı olduğu bildiren kod blogudur.\n",
        "\n",
        "while True:\n",
        "    try:\n",
        "        gelen1 = float(input(\"Birinci sayıyı girin: \"))\n",
        "        gelen2 = float(input(\"İkinci sayıyı girin: \"))\n",
        "\n",
        "        if gelen1 > gelen2:\n",
        "            print(\"İlk sayı büyüktür\")\n",
        "        elif gelen1 < gelen2:\n",
        "            print(\"İkinci sayı büyüktür\")\n",
        "        else:\n",
        "            print(\"Sayilar birbirine eşittir\")\n",
        "\n",
        "        break\n",
        "    except ValueError:\n",
        "        print(\"Lütfen geçerli bir sayı girin.\")"
      ],
      "metadata": {
        "colab": {
          "base_uri": "https://localhost:8080/"
        },
        "id": "xiBdHXc-KPDr",
        "outputId": "4008296d-031c-43ef-f30a-ba74136911ba"
      },
      "execution_count": 13,
      "outputs": [
        {
          "output_type": "stream",
          "name": "stdout",
          "text": [
            "Birinci sayıyı girin: 24\n",
            "İkinci sayıyı girin: 8\n",
            "İlk sayı büyüktür\n"
          ]
        }
      ]
    },
    {
      "cell_type": "code",
      "source": [
        "# Kullanıcıdan alınan sayıya kadar 1'den başlayarak faktöreyel hesabının yapılmasıdır.\n",
        "\n",
        "while True:\n",
        "    try:\n",
        "        sayi = int(input(\"Bir sayı girin: \"))\n",
        "        if sayi < 0:\n",
        "            print(\"Negatif sayıların faktöriyeli hesaplanamaz.\")\n",
        "        elif sayi == 0 or sayi == 1:\n",
        "            print(1)\n",
        "        else:\n",
        "            sonuc = 1\n",
        "            while sayi > 1:\n",
        "                sonuc *= sayi\n",
        "                sayi -= 1\n",
        "            print(sonuc)\n",
        "        break\n",
        "    except ValueError:\n",
        "        print(\"Lütfen geçerli bir tam sayı girin.\")"
      ],
      "metadata": {
        "colab": {
          "base_uri": "https://localhost:8080/"
        },
        "id": "V7QY21JqKj-R",
        "outputId": "6e933108-43ff-4c2a-a96a-9782eea04864"
      },
      "execution_count": 14,
      "outputs": [
        {
          "output_type": "stream",
          "name": "stdout",
          "text": [
            "Bir sayı girin: 8\n",
            "40320\n"
          ]
        }
      ]
    },
    {
      "cell_type": "code",
      "source": [
        "# Kullanıcıdan başlangıç değeri alınır\n",
        "while True:\n",
        "    try:\n",
        "        baslangic_degeri = int(input(\"Başlangıç değerini girin: \"))\n",
        "        if baslangic_degeri < 0:\n",
        "            baslangic_degeri = abs(baslangic_degeri)\n",
        "            print(f\"Negatif değer girdiniz, pozitif olarak alındı: {baslangic_degeri}\")\n",
        "        break\n",
        "    except ValueError:\n",
        "        print(\"Lütfen geçerli bir tam sayı girin.\")\n",
        "\n",
        "# Kullanıcıdan son değer alınır\n",
        "while True:\n",
        "    try:\n",
        "        bitis_degeri = int(input(\"Bitiş değerini girin: \"))\n",
        "        if bitis_degeri < 0:\n",
        "            bitis_degeri = abs(bitis_degeri)\n",
        "            print(f\"Negatif değer girdiniz, pozitif olarak alındı: {bitis_degeri}\")\n",
        "        break\n",
        "    except ValueError:\n",
        "        print(\"Lütfen geçerli bir tam sayı girin.\")\n",
        "\n",
        "# Başlangıç ve bitiş değerleri arasında çift sayıları bulma ve topla\n",
        "cift_sayilar = []\n",
        "cift_sayilarin_toplami = 0\n",
        "sayi = baslangic_degeri\n",
        "\n",
        "while sayi <= bitis_degeri:\n",
        "    if sayi % 2 == 0:\n",
        "        cift_sayilar.append(sayi)\n",
        "        cift_sayilarin_toplami += sayi\n",
        "    sayi += 1\n",
        "\n",
        "# Elde edilen çift sayıları ve toplamlarını ekrana yazdırma\n",
        "print(f\"{baslangic_degeri} ile {bitis_degeri} arasındaki çift sayılar:\")\n",
        "for num in cift_sayilar:\n",
        "    print(num, end=\" \")\n",
        "\n",
        "print(f\"\\nÇift sayıların toplamı: {cift_sayilarin_toplami}\")"
      ],
      "metadata": {
        "colab": {
          "base_uri": "https://localhost:8080/"
        },
        "id": "Lv0i0996VGQ0",
        "outputId": "79f36d69-0144-4b18-c16d-4ddffcd3f2c1"
      },
      "execution_count": 16,
      "outputs": [
        {
          "output_type": "stream",
          "name": "stdout",
          "text": [
            "Başlangıç değerini girin: 4\n",
            "Bitiş değerini girin: 8\n",
            "4 ile 8 arasındaki çift sayılar:\n",
            "4 6 8 \n",
            "Çift sayıların toplamı: 18\n"
          ]
        }
      ]
    },
    {
      "cell_type": "code",
      "source": [
        "# Önceden tanımlalan sesli harf listesinde girilen metnin karşılaştırılması yapılarak sesli ve sessiz harf kontrolünün yapımı\n",
        "sesli_harfler = 'aeıioöuüAEIİOÖUÜ'\n",
        "\n",
        "kelime = input(\"Bir kelime girin: \") # Kullanıcıdan bir kelime al\n",
        "\n",
        "# Sesli ve sessiz harf sayısını hesapla\n",
        "sesli_harf_sayisi = 0\n",
        "sessiz_harf_sayisi = 0\n",
        "\n",
        "'''\n",
        "isalpha() ile bir stringde yalnızca harf olup olmadığını kontrol etmek için kullanılır.\n",
        "\n",
        "Aşağıdaki kod blogunda geçen \"isalpha\" harf dışı bir karakter ile karşılaşınca \"false\" döndürmektedir.\n",
        "'''\n",
        "\n",
        "for harf in kelime:\n",
        "    if harf.isalpha():  # Sadece harfleri kontrol et (isalpha)\n",
        "        if harf in sesli_harfler:\n",
        "            sesli_harf_sayisi += 1\n",
        "        else:\n",
        "            sessiz_harf_sayisi += 1\n",
        "\n",
        "# Sonuçları ekrana yazdır\n",
        "print(kelime, \"kelimesinde\" , sesli_harf_sayisi , \"adet sesli harf ve\", sessiz_harf_sayisi, \"sessiz harf vardır.\")"
      ],
      "metadata": {
        "colab": {
          "base_uri": "https://localhost:8080/"
        },
        "id": "cdj_rT1XWuOs",
        "outputId": "4e8fd219-c523-4550-d5d3-d5175447d0c1"
      },
      "execution_count": 17,
      "outputs": [
        {
          "output_type": "stream",
          "name": "stdout",
          "text": [
            "Bir kelime girin: Toraman\n",
            "Toraman kelimesinde 3 adet sesli harf ve 4 sessiz harf vardır.\n"
          ]
        }
      ]
    }
  ]
}